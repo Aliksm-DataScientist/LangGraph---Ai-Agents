{
  "nbformat": 4,
  "nbformat_minor": 0,
  "metadata": {
    "colab": {
      "provenance": []
    },
    "kernelspec": {
      "name": "python3",
      "display_name": "Python 3"
    },
    "language_info": {
      "name": "python"
    }
  },
  "cells": [
    {
      "cell_type": "code",
      "source": [],
      "metadata": {
        "id": "XNdbSWSy3cYU"
      },
      "execution_count": null,
      "outputs": []
    },
    {
      "cell_type": "markdown",
      "source": [
        "**IMPORTANT LEARNINGS: Related to AI Agents**\n",
        "```\n",
        "# ⚡ REAL MAGIC LIES in the ***prompting, Consoling, Error Understanding***\n",
        "```\n",
        "\n",
        "---\n",
        "\n",
        "\n",
        "\n",
        "1.   REAL MAGIC lies in the prompting (That has to be explained very very very clearly, if possible use examples)\n",
        "2.   Console where ever you feeling something is wrong\n",
        "3. Understand the error properly and take further steps to resolve\n",
        "\n",
        "\n",
        "\n",
        "\n",
        "\n",
        "\n",
        "\n",
        "\n",
        "\n",
        "\n"
      ],
      "metadata": {
        "id": "Jbf-i5rJ3eib"
      }
    },
    {
      "cell_type": "code",
      "source": [
        "from typing import TypedDict, Dict\n",
        "from langgraph.graph import StateGraph, END\n",
        "from langchain_core.prompts import ChatPromptTemplate\n",
        "from langchain_core.runnables.graph import MermaidDrawMethod\n",
        "from IPython.display import display , Image\n",
        "from langchain.tools import tool\n",
        "import json"
      ],
      "metadata": {
        "id": "6EZxAd0h4ZKe"
      },
      "execution_count": null,
      "outputs": []
    },
    {
      "cell_type": "code",
      "execution_count": null,
      "metadata": {
        "colab": {
          "base_uri": "https://localhost:8080/"
        },
        "collapsed": true,
        "id": "-f-mL3RC4TLU",
        "outputId": "5c7c05aa-5a74-4cb8-a388-d990febe06a2"
      },
      "outputs": [
        {
          "output_type": "stream",
          "name": "stdout",
          "text": [
            "Requirement already satisfied: langchain in /usr/local/lib/python3.11/dist-packages (0.3.17)\n",
            "Requirement already satisfied: langchain_core in /usr/local/lib/python3.11/dist-packages (0.3.33)\n",
            "Collecting langchain_groq\n",
            "  Downloading langchain_groq-0.2.4-py3-none-any.whl.metadata (3.0 kB)\n",
            "Collecting langchain_community\n",
            "  Downloading langchain_community-0.3.16-py3-none-any.whl.metadata (2.9 kB)\n",
            "Collecting langgraph\n",
            "  Downloading langgraph-0.2.69-py3-none-any.whl.metadata (17 kB)\n",
            "Requirement already satisfied: PyYAML>=5.3 in /usr/local/lib/python3.11/dist-packages (from langchain) (6.0.2)\n",
            "Requirement already satisfied: SQLAlchemy<3,>=1.4 in /usr/local/lib/python3.11/dist-packages (from langchain) (2.0.37)\n",
            "Requirement already satisfied: aiohttp<4.0.0,>=3.8.3 in /usr/local/lib/python3.11/dist-packages (from langchain) (3.11.11)\n",
            "Requirement already satisfied: langchain-text-splitters<0.4.0,>=0.3.3 in /usr/local/lib/python3.11/dist-packages (from langchain) (0.3.5)\n",
            "Requirement already satisfied: langsmith<0.4,>=0.1.17 in /usr/local/lib/python3.11/dist-packages (from langchain) (0.3.4)\n",
            "Requirement already satisfied: numpy<2,>=1.22.4 in /usr/local/lib/python3.11/dist-packages (from langchain) (1.26.4)\n",
            "Requirement already satisfied: pydantic<3.0.0,>=2.7.4 in /usr/local/lib/python3.11/dist-packages (from langchain) (2.10.6)\n",
            "Requirement already satisfied: requests<3,>=2 in /usr/local/lib/python3.11/dist-packages (from langchain) (2.32.3)\n",
            "Requirement already satisfied: tenacity!=8.4.0,<10,>=8.1.0 in /usr/local/lib/python3.11/dist-packages (from langchain) (9.0.0)\n",
            "Requirement already satisfied: jsonpatch<2.0,>=1.33 in /usr/local/lib/python3.11/dist-packages (from langchain_core) (1.33)\n",
            "Requirement already satisfied: packaging<25,>=23.2 in /usr/local/lib/python3.11/dist-packages (from langchain_core) (24.2)\n",
            "Requirement already satisfied: typing-extensions>=4.7 in /usr/local/lib/python3.11/dist-packages (from langchain_core) (4.12.2)\n",
            "Collecting groq<1,>=0.4.1 (from langchain_groq)\n",
            "  Downloading groq-0.18.0-py3-none-any.whl.metadata (14 kB)\n",
            "Collecting dataclasses-json<0.7,>=0.5.7 (from langchain_community)\n",
            "  Downloading dataclasses_json-0.6.7-py3-none-any.whl.metadata (25 kB)\n",
            "Collecting httpx-sse<0.5.0,>=0.4.0 (from langchain_community)\n",
            "  Downloading httpx_sse-0.4.0-py3-none-any.whl.metadata (9.0 kB)\n",
            "Collecting pydantic-settings<3.0.0,>=2.4.0 (from langchain_community)\n",
            "  Downloading pydantic_settings-2.7.1-py3-none-any.whl.metadata (3.5 kB)\n",
            "Collecting langgraph-checkpoint<3.0.0,>=2.0.10 (from langgraph)\n",
            "  Downloading langgraph_checkpoint-2.0.10-py3-none-any.whl.metadata (4.6 kB)\n",
            "Collecting langgraph-sdk<0.2.0,>=0.1.42 (from langgraph)\n",
            "  Downloading langgraph_sdk-0.1.51-py3-none-any.whl.metadata (1.8 kB)\n",
            "Requirement already satisfied: aiohappyeyeballs>=2.3.0 in /usr/local/lib/python3.11/dist-packages (from aiohttp<4.0.0,>=3.8.3->langchain) (2.4.4)\n",
            "Requirement already satisfied: aiosignal>=1.1.2 in /usr/local/lib/python3.11/dist-packages (from aiohttp<4.0.0,>=3.8.3->langchain) (1.3.2)\n",
            "Requirement already satisfied: attrs>=17.3.0 in /usr/local/lib/python3.11/dist-packages (from aiohttp<4.0.0,>=3.8.3->langchain) (25.1.0)\n",
            "Requirement already satisfied: frozenlist>=1.1.1 in /usr/local/lib/python3.11/dist-packages (from aiohttp<4.0.0,>=3.8.3->langchain) (1.5.0)\n",
            "Requirement already satisfied: multidict<7.0,>=4.5 in /usr/local/lib/python3.11/dist-packages (from aiohttp<4.0.0,>=3.8.3->langchain) (6.1.0)\n",
            "Requirement already satisfied: propcache>=0.2.0 in /usr/local/lib/python3.11/dist-packages (from aiohttp<4.0.0,>=3.8.3->langchain) (0.2.1)\n",
            "Requirement already satisfied: yarl<2.0,>=1.17.0 in /usr/local/lib/python3.11/dist-packages (from aiohttp<4.0.0,>=3.8.3->langchain) (1.18.3)\n",
            "Collecting marshmallow<4.0.0,>=3.18.0 (from dataclasses-json<0.7,>=0.5.7->langchain_community)\n",
            "  Downloading marshmallow-3.26.1-py3-none-any.whl.metadata (7.3 kB)\n",
            "Collecting typing-inspect<1,>=0.4.0 (from dataclasses-json<0.7,>=0.5.7->langchain_community)\n",
            "  Downloading typing_inspect-0.9.0-py3-none-any.whl.metadata (1.5 kB)\n",
            "Requirement already satisfied: anyio<5,>=3.5.0 in /usr/local/lib/python3.11/dist-packages (from groq<1,>=0.4.1->langchain_groq) (3.7.1)\n",
            "Requirement already satisfied: distro<2,>=1.7.0 in /usr/local/lib/python3.11/dist-packages (from groq<1,>=0.4.1->langchain_groq) (1.9.0)\n",
            "Requirement already satisfied: httpx<1,>=0.23.0 in /usr/local/lib/python3.11/dist-packages (from groq<1,>=0.4.1->langchain_groq) (0.28.1)\n",
            "Requirement already satisfied: sniffio in /usr/local/lib/python3.11/dist-packages (from groq<1,>=0.4.1->langchain_groq) (1.3.1)\n",
            "Requirement already satisfied: jsonpointer>=1.9 in /usr/local/lib/python3.11/dist-packages (from jsonpatch<2.0,>=1.33->langchain_core) (3.0.0)\n",
            "Requirement already satisfied: msgpack<2.0.0,>=1.1.0 in /usr/local/lib/python3.11/dist-packages (from langgraph-checkpoint<3.0.0,>=2.0.10->langgraph) (1.1.0)\n",
            "Requirement already satisfied: orjson>=3.10.1 in /usr/local/lib/python3.11/dist-packages (from langgraph-sdk<0.2.0,>=0.1.42->langgraph) (3.10.15)\n",
            "Requirement already satisfied: requests-toolbelt<2.0.0,>=1.0.0 in /usr/local/lib/python3.11/dist-packages (from langsmith<0.4,>=0.1.17->langchain) (1.0.0)\n",
            "Requirement already satisfied: zstandard<0.24.0,>=0.23.0 in /usr/local/lib/python3.11/dist-packages (from langsmith<0.4,>=0.1.17->langchain) (0.23.0)\n",
            "Requirement already satisfied: annotated-types>=0.6.0 in /usr/local/lib/python3.11/dist-packages (from pydantic<3.0.0,>=2.7.4->langchain) (0.7.0)\n",
            "Requirement already satisfied: pydantic-core==2.27.2 in /usr/local/lib/python3.11/dist-packages (from pydantic<3.0.0,>=2.7.4->langchain) (2.27.2)\n",
            "Collecting python-dotenv>=0.21.0 (from pydantic-settings<3.0.0,>=2.4.0->langchain_community)\n",
            "  Downloading python_dotenv-1.0.1-py3-none-any.whl.metadata (23 kB)\n",
            "Requirement already satisfied: charset-normalizer<4,>=2 in /usr/local/lib/python3.11/dist-packages (from requests<3,>=2->langchain) (3.4.1)\n",
            "Requirement already satisfied: idna<4,>=2.5 in /usr/local/lib/python3.11/dist-packages (from requests<3,>=2->langchain) (3.10)\n",
            "Requirement already satisfied: urllib3<3,>=1.21.1 in /usr/local/lib/python3.11/dist-packages (from requests<3,>=2->langchain) (2.3.0)\n",
            "Requirement already satisfied: certifi>=2017.4.17 in /usr/local/lib/python3.11/dist-packages (from requests<3,>=2->langchain) (2025.1.31)\n",
            "Requirement already satisfied: greenlet!=0.4.17 in /usr/local/lib/python3.11/dist-packages (from SQLAlchemy<3,>=1.4->langchain) (3.1.1)\n",
            "Requirement already satisfied: httpcore==1.* in /usr/local/lib/python3.11/dist-packages (from httpx<1,>=0.23.0->groq<1,>=0.4.1->langchain_groq) (1.0.7)\n",
            "Requirement already satisfied: h11<0.15,>=0.13 in /usr/local/lib/python3.11/dist-packages (from httpcore==1.*->httpx<1,>=0.23.0->groq<1,>=0.4.1->langchain_groq) (0.14.0)\n",
            "Collecting mypy-extensions>=0.3.0 (from typing-inspect<1,>=0.4.0->dataclasses-json<0.7,>=0.5.7->langchain_community)\n",
            "  Downloading mypy_extensions-1.0.0-py3-none-any.whl.metadata (1.1 kB)\n",
            "Downloading langchain_groq-0.2.4-py3-none-any.whl (14 kB)\n",
            "Downloading langchain_community-0.3.16-py3-none-any.whl (2.5 MB)\n",
            "\u001b[2K   \u001b[90m━━━━━━━━━━━━━━━━━━━━━━━━━━━━━━━━━━━━━━━━\u001b[0m \u001b[32m2.5/2.5 MB\u001b[0m \u001b[31m34.1 MB/s\u001b[0m eta \u001b[36m0:00:00\u001b[0m\n",
            "\u001b[?25hDownloading langgraph-0.2.69-py3-none-any.whl (148 kB)\n",
            "\u001b[2K   \u001b[90m━━━━━━━━━━━━━━━━━━━━━━━━━━━━━━━━━━━━━━━━\u001b[0m \u001b[32m148.7/148.7 kB\u001b[0m \u001b[31m9.9 MB/s\u001b[0m eta \u001b[36m0:00:00\u001b[0m\n",
            "\u001b[?25hDownloading dataclasses_json-0.6.7-py3-none-any.whl (28 kB)\n",
            "Downloading groq-0.18.0-py3-none-any.whl (121 kB)\n",
            "\u001b[2K   \u001b[90m━━━━━━━━━━━━━━━━━━━━━━━━━━━━━━━━━━━━━━━━\u001b[0m \u001b[32m121.9/121.9 kB\u001b[0m \u001b[31m9.3 MB/s\u001b[0m eta \u001b[36m0:00:00\u001b[0m\n",
            "\u001b[?25hDownloading httpx_sse-0.4.0-py3-none-any.whl (7.8 kB)\n",
            "Downloading langgraph_checkpoint-2.0.10-py3-none-any.whl (37 kB)\n",
            "Downloading langgraph_sdk-0.1.51-py3-none-any.whl (44 kB)\n",
            "\u001b[2K   \u001b[90m━━━━━━━━━━━━━━━━━━━━━━━━━━━━━━━━━━━━━━━━\u001b[0m \u001b[32m44.7/44.7 kB\u001b[0m \u001b[31m3.5 MB/s\u001b[0m eta \u001b[36m0:00:00\u001b[0m\n",
            "\u001b[?25hDownloading pydantic_settings-2.7.1-py3-none-any.whl (29 kB)\n",
            "Downloading marshmallow-3.26.1-py3-none-any.whl (50 kB)\n",
            "\u001b[2K   \u001b[90m━━━━━━━━━━━━━━━━━━━━━━━━━━━━━━━━━━━━━━━━\u001b[0m \u001b[32m50.9/50.9 kB\u001b[0m \u001b[31m3.7 MB/s\u001b[0m eta \u001b[36m0:00:00\u001b[0m\n",
            "\u001b[?25hDownloading python_dotenv-1.0.1-py3-none-any.whl (19 kB)\n",
            "Downloading typing_inspect-0.9.0-py3-none-any.whl (8.8 kB)\n",
            "Downloading mypy_extensions-1.0.0-py3-none-any.whl (4.7 kB)\n",
            "Installing collected packages: python-dotenv, mypy-extensions, marshmallow, httpx-sse, typing-inspect, pydantic-settings, langgraph-sdk, groq, dataclasses-json, langgraph-checkpoint, langchain_groq, langgraph, langchain_community\n",
            "Successfully installed dataclasses-json-0.6.7 groq-0.18.0 httpx-sse-0.4.0 langchain_community-0.3.16 langchain_groq-0.2.4 langgraph-0.2.69 langgraph-checkpoint-2.0.10 langgraph-sdk-0.1.51 marshmallow-3.26.1 mypy-extensions-1.0.0 pydantic-settings-2.7.1 python-dotenv-1.0.1 typing-inspect-0.9.0\n"
          ]
        }
      ],
      "source": [
        "!pip install langchain langchain_core langchain_groq langchain_community langgraph"
      ]
    },
    {
      "cell_type": "code",
      "source": [
        "class State(TypedDict):\n",
        "  question: str\n",
        "  subject_category: str\n",
        "  course_name: str\n",
        "  required_personal_suppport: str\n",
        "  answer: str"
      ],
      "metadata": {
        "id": "Q0xfJMrW4e_N"
      },
      "execution_count": null,
      "outputs": []
    },
    {
      "cell_type": "code",
      "source": [
        "from langchain_groq import ChatGroq\n",
        "\n",
        "llm = ChatGroq(\n",
        "    temperature=0,\n",
        "    groq_api_key = \"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\",\n",
        "    model_name = \"llama-3.3-70b-versatile\"\n",
        ")\n",
        "result = llm.invoke(\"What is langchain\")\n",
        "result.content"
      ],
      "metadata": {
        "colab": {
          "base_uri": "https://localhost:8080/",
          "height": 175
        },
        "id": "lU8bLTkf447q",
        "outputId": "0385717d-9c53-4ad6-de66-bcd5263c6582"
      },
      "execution_count": null,
      "outputs": [
        {
          "output_type": "execute_result",
          "data": {
            "text/plain": [
              "'LangChain is an open-source framework designed to help developers build applications that utilize large language models (LLMs) more efficiently. It was created to simplify the process of integrating LLMs into various projects, making it easier for developers to leverage the capabilities of these powerful models.\\n\\nLangChain provides a set of tools and libraries that enable developers to:\\n\\n1. **Interact with LLMs**: LangChain offers a unified interface to interact with different LLMs, such as LLaMA, PaLM, and others, allowing developers to write code that works across multiple models.\\n2. **Manage memory and caching**: LangChain includes features to manage memory and caching, which helps to reduce the computational resources required to run LLMs and improves overall performance.\\n3. **Implement indexing and retrieval**: LangChain provides tools for indexing and retrieving information from LLMs, making it easier to build applications that require searching, filtering, or ranking of results.\\n4. **Build conversational interfaces**: LangChain includes components for building conversational interfaces, such as chatbots, voice assistants, or other types of interactive applications.\\n\\nThe primary goals of LangChain are to:\\n\\n1. **Simplify LLM integration**: Make it easier for developers to integrate LLMs into their applications, without requiring extensive expertise in natural language processing (NLP) or machine learning.\\n2. **Improve performance**: Optimize the performance of LLMs in various applications, reducing latency, and improving overall efficiency.\\n3. **Enable more applications**: Facilitate the development of a wider range of applications that utilize LLMs, such as chatbots, content generation, language translation, and more.\\n\\nBy providing a standardized framework for working with LLMs, LangChain aims to accelerate the adoption of these powerful models in various industries and applications, and to enable developers to build more innovative and effective solutions.'"
            ],
            "application/vnd.google.colaboratory.intrinsic+json": {
              "type": "string"
            }
          },
          "metadata": {},
          "execution_count": 106
        }
      ]
    },
    {
      "cell_type": "code",
      "source": [
        "def subject_wise_category(state: State) -> State:\n",
        "    prompt = ChatPromptTemplate.from_template(\n",
        "        \"Categorize the following student question into one of these categories:\"\n",
        "        \"Language, About a course. If the question is related to language then retrun category called 'Language'. If any question is related to the courses like javascript, python, angular, Data Science, Gen Ai, then please return the category like 'About a course''\"\n",
        "        \"here is the question of the student Question: {question}\"\n",
        "    )\n",
        "\n",
        "    chain = prompt | llm\n",
        "    response = chain.invoke({\"question\": state[\"question\"]}).content\n",
        "    return {\"subject_category\": response}"
      ],
      "metadata": {
        "id": "wCyITNcg47GK"
      },
      "execution_count": null,
      "outputs": []
    },
    {
      "cell_type": "code",
      "source": [
        "def required_personal_support(state: State) -> State:\n",
        "  prompt = ChatPromptTemplate.from_template(\n",
        "      \"Check if student required any personal support or any personal assistant to answer his question\"\n",
        "      \"Response with either 'Required personal assistant', or 'he doesnt want any personal assistant'. Question: {question}\"\n",
        "  )\n",
        "  chain = prompt | llm\n",
        "  required_personal_suppport = chain.invoke({\"question\": state[\"question\"]}).content\n",
        "  return {\"required_personal_suppport\": required_personal_suppport}"
      ],
      "metadata": {
        "id": "SC0Xo3JS5ahU"
      },
      "execution_count": null,
      "outputs": []
    },
    {
      "cell_type": "code",
      "source": [
        "def get_course_amount(state: State) -> State:\n",
        "    \"\"\"\n",
        "    To get the amount of a course, it takes course_name as question and return amount.\n",
        "    \"\"\"\n",
        "    course_prices = {\n",
        "        \"Javascript\": 5000,\n",
        "        \"Python\": 8000,\n",
        "        \"Angular\": 3000,\n",
        "        \"Data Science\": 10000,\n",
        "        \"Gen AI\": 20000,\n",
        "    }\n",
        "\n",
        "    prompt = ChatPromptTemplate.from_template(\n",
        "        \"If the question contains any course name, then please return that course name. Example: If user has asked a question like may I know the cost of the 'Reactjs' course, then from question pick the 'Reactjs' and return the 'Reactjs' as a response\"\n",
        "        \"Please do not return the response as like Reactjs Course, return the rsponse only with the course name like Reactjs\"\n",
        "        \"here is the question of the student Question: {question}\"\n",
        "    )\n",
        "\n",
        "    chain = prompt | llm\n",
        "    response = chain.invoke({\"question\": state[\"question\"]}).content\n",
        "    print('response_course name', response)\n",
        "    course_amount = course_prices.get(response, \"Course not found\")\n",
        "    print('course_amount', course_amount)\n",
        "    return {\"answer\": course_amount}\n"
      ],
      "metadata": {
        "id": "iVpXx8PAqrk2"
      },
      "execution_count": null,
      "outputs": []
    },
    {
      "cell_type": "code",
      "source": [
        "def provide_support(state: State)->State:\n",
        "  return {\"answer\": \"Teacher will contact you\"}"
      ],
      "metadata": {
        "id": "OhtKwt9J9CGM"
      },
      "execution_count": null,
      "outputs": []
    },
    {
      "cell_type": "code",
      "source": [
        "def language_related_questions(state: State)->State:\n",
        "  prompt = ChatPromptTemplate.from_template(\n",
        "      \"Provide the support related to languages as per to question : {question}\"\n",
        "  )\n",
        "  chain = prompt | llm\n",
        "  answer = chain.invoke({\"question\": state[\"question\"]}).content\n",
        "  return {\"answer\": answer}"
      ],
      "metadata": {
        "id": "aqzzSlFe6PWj"
      },
      "execution_count": null,
      "outputs": []
    },
    {
      "cell_type": "code",
      "source": [
        "def route_as_per_question(state: State) -> str:\n",
        "  if 'About a course' in state[\"subject_category\"]:\n",
        "     return \"get_course_amount\"\n",
        "  elif 'Language' in state[\"subject_category\"]:\n",
        "    return \"language_related_questions\"\n",
        "  else:\n",
        "    return \"provide_support\""
      ],
      "metadata": {
        "id": "DFPHtxij8Tv-"
      },
      "execution_count": null,
      "outputs": []
    },
    {
      "cell_type": "code",
      "source": [],
      "metadata": {
        "id": "Z_Otg-TN3YUV"
      },
      "execution_count": null,
      "outputs": []
    },
    {
      "cell_type": "code",
      "source": [
        "graph = StateGraph(State)\n",
        "\n",
        "graph.add_node(\"subject_wise_category\", subject_wise_category)\n",
        "graph.add_node(\"required_personal_support\", required_personal_support)\n",
        "graph.add_node(\"language_related_questions\", language_related_questions)\n",
        "graph.add_node(\"get_course_amount\", get_course_amount)\n",
        "graph.add_node(\"provide_support\", provide_support)\n",
        "\n",
        "graph.add_edge(\"subject_wise_category\", \"required_personal_support\")\n",
        "graph.add_conditional_edges(\n",
        "    \"required_personal_support\",\n",
        "    route_as_per_question,{\n",
        "        \"provide_support\" : \"provide_support\",\n",
        "        \"language_related_questions\" :  \"language_related_questions\",\n",
        "        \"get_course_amount\" : \"get_course_amount\"\n",
        "    }\n",
        ")\n",
        "\n",
        "graph.add_edge(\"provide_support\", END)\n",
        "graph.add_edge(\"language_related_questions\", END)\n",
        "graph.add_edge(\"get_course_amount\", END)\n",
        "\n",
        "graph.set_entry_point(\"subject_wise_category\")\n",
        "\n",
        "app  = graph.compile()"
      ],
      "metadata": {
        "id": "NkSGIWdG9fUx"
      },
      "execution_count": null,
      "outputs": []
    },
    {
      "cell_type": "code",
      "source": [
        "display(\n",
        "    Image(\n",
        "        app.get_graph().draw_mermaid_png()))"
      ],
      "metadata": {
        "colab": {
          "base_uri": "https://localhost:8080/",
          "height": 449
        },
        "id": "CeD7GYjI-job",
        "outputId": "637aa49b-3849-410e-8eb8-31b399b9ed41"
      },
      "execution_count": null,
      "outputs": [
        {
          "output_type": "display_data",
          "data": {
            "image/png": "[encoded data removed]",
            "text/plain": [
              "<IPython.core.display.Image object>"
            ]
          },
          "metadata": {}
        }
      ]
    },
    {
      "cell_type": "code",
      "source": [
        "question = \"I have lot many doubt I want some one to support me please\"\n",
        "app.invoke({\"question\": question})"
      ],
      "metadata": {
        "colab": {
          "base_uri": "https://localhost:8080/"
        },
        "id": "o65T0ndR-z1G",
        "outputId": "d84fbda9-15e8-4491-ad99-03a2c7b99a2b"
      },
      "execution_count": null,
      "outputs": [
        {
          "output_type": "execute_result",
          "data": {
            "text/plain": [
              "{'question': 'I have lot many doubt I want some one to support me please',\n",
              " 'subject_category': \"Based on the student's question, I would categorize it as 'Language' because the question seems to be related to a request for support or guidance, and the language used is not specific to any particular course. The student is expressing a general need for help, rather than asking a question about a specific course like JavaScript, Python, or Data Science. \\n\\nCategory: Language\",\n",
              " 'required_personal_suppport': 'Required personal assistant',\n",
              " 'answer': \"I'm here to support you with any language-related doubts or questions you may have. Please feel free to ask me anything, and I'll do my best to help. \\n\\nHere are some areas where I can provide support:\\n\\n1. **Language Learning**: If you're learning a new language, I can help with grammar, vocabulary, pronunciation, and sentence structure.\\n2. **Language Translation**: If you need help translating text from one language to another, I can assist you with that.\\n3. **Language Practice**: If you want to practice conversing in a language, I can engage in a conversation with you to help you improve your speaking skills.\\n4. **Language Resources**: If you're looking for language learning resources such as textbooks, language learning apps, or online courses, I can provide recommendations.\\n5. **Language-related Doubts**: If you have any specific doubts or questions about a language, such as grammar rules, idiomatic expressions, or cultural nuances, I can help clarify them for you.\\n\\nSome popular languages that I can support include:\\n\\n* English\\n* Spanish\\n* French\\n* German\\n* Italian\\n* Chinese\\n* Japanese\\n* Korean\\n* Arabic\\n* Hindi\\n* Portuguese\\n* Russian\\n\\nAnd many more! Please let me know which language you need help with, and I'll do my best to support you.\\n\\nWhat's your first question or doubt that you'd like to discuss?\"}"
            ]
          },
          "metadata": {},
          "execution_count": 164
        }
      ]
    },
    {
      "cell_type": "code",
      "source": [],
      "metadata": {
        "id": "vFYiPR5M_CnO"
      },
      "execution_count": null,
      "outputs": []
    }
  ]
}